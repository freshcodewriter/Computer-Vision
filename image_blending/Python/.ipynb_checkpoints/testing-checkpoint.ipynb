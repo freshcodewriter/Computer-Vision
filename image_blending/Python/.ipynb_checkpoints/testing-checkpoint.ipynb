{
 "cells": [
  {
   "cell_type": "code",
   "execution_count": null,
   "metadata": {},
   "outputs": [
    {
     "name": "stdout",
     "output_type": "stream",
     "text": [
      "(200, 200)\n"
     ]
    }
   ],
   "source": [
    "from getIndexes import getIndexes\n",
    "from getCoefficientMatrix import getCoefficientMatrix\n",
    "from getSolutionVect import getSolutionVect\n",
    "from reconstructImg import reconstructImg\n",
    "\n",
    "from PIL import Image\n",
    "import matplotlib.pyplot as plt\n",
    "import numpy as np\n",
    "import cv2 as cv\n",
    "from numpy.linalg import inv\n",
    "from scipy import signal\n",
    "\n",
    "def maskImage(img):\n",
    "    mask = np.array(img.convert('L'))\n",
    "    high_i,high_j = np.where(mask>40)\n",
    "    low_i,low_j =  np.where(mask<=40)\n",
    "    mask[high_i,high_j] = 1\n",
    "    mask[low_i,low_j] = 0\n",
    "    return mask\n",
    "\n",
    "def seamlessCloningPoisson(sourceImg, targetImg, mask, offsetX, offsetY):\n",
    "    source = np.array(sourceImg)/255\n",
    "    target = np.array(targetImg)/255\n",
    "    sourceH,sourceW = mask.shape[0],mask.shape[1]\n",
    "    targetH, targetW = target.shape[0],target.shape[1]\n",
    "    indexes = getIndexes(mask, targetH, targetW, offsetX, offsetY)\n",
    "    coeffA = getCoefficientMatrix(indexes)\n",
    "    source_R = source[0:sourceH,0:sourceW,0]\n",
    "    source_G = source[0:sourceH,0:sourceW,1]\n",
    "    source_B = source[0:sourceH,0:sourceW,2]\n",
    "    target_R = target[0:targetH,0:targetW,0]\n",
    "    target_G = target[0:targetH,0:targetW,1]\n",
    "    target_B = target[0:targetH,0:targetW,2]\n",
    "    res_R = getSolutionVect(indexes, source_R, target_R, offsetX, offsetY)\n",
    "    res_G = getSolutionVect(indexes, source_G, target_G, offsetX, offsetY)\n",
    "    res_B = getSolutionVect(indexes, source_B, target_B, offsetX, offsetY)\n",
    "    coeffA_inv = inv(coeffA)\n",
    "    red = np.dot(coeffA_inv, res_R)\n",
    "    green = np.dot(coeffA_inv, res_G)\n",
    "    blue = np.dot(coeffA_inv, res_B)\n",
    "    red = np.clip(red,0,1)\n",
    "    green = np.clip(green,0,1)\n",
    "    blue = np.clip(blue,0,1)\n",
    "    red *= 255\n",
    "    green *= 255\n",
    "    blue *= 255\n",
    "    copy = np.array(targetImg)\n",
    "    resultImg = reconstructImg(indexes, red, green, blue, copy)\n",
    "    return resultImg\n",
    "\n",
    "sourceImg = Image.open('mia.jpg')\n",
    "targetImg = Image.open('call_me_by_your_name.jpg')\n",
    "img_mask = Image.open('mia_mask.jpg')\n",
    "mask = maskImage(img_mask)\n",
    "offsetX = 400\n",
    "offsetY = 200\n",
    "\n",
    "resultImg = seamlessCloningPoisson(sourceImg, targetImg, mask, offsetX, offsetY)\n",
    "plt.imshow(resultImg, interpolation='nearest')\n",
    "plt.show()"
   ]
  },
  {
   "cell_type": "code",
   "execution_count": null,
   "metadata": {},
   "outputs": [],
   "source": []
  }
 ],
 "metadata": {
  "kernelspec": {
   "display_name": "Python 3",
   "language": "python",
   "name": "python3"
  },
  "language_info": {
   "codemirror_mode": {
    "name": "ipython",
    "version": 3
   },
   "file_extension": ".py",
   "mimetype": "text/x-python",
   "name": "python",
   "nbconvert_exporter": "python",
   "pygments_lexer": "ipython3",
   "version": "3.6.5"
  }
 },
 "nbformat": 4,
 "nbformat_minor": 2
}
