{
 "cells": [
  {
   "cell_type": "code",
   "execution_count": null,
   "metadata": {},
   "outputs": [],
   "source": [
    "import numpy as np\n",
    "DESC_SIZE = 64\n",
    "\n",
    "def our_feat_desc(image, x, y):\n",
    "  h, w = image.shape[0:2]\n",
    "  num_corners = x.shape[0]\n",
    "  corners = np.array((y, x))\n",
    "\n",
    "  # Offsets\n",
    "  offsets_row = np.tile(np.arange(-17.5, 20, 5), (8,1)).transpose()\n",
    "  offsets_col = np.tile(np.arange(-17.5, 20, 5), (8,1))\n",
    "  offsets = np.array((np.ravel(offsets_row), np.ravel(offsets_col)))\n",
    "\n",
    "  ''' Loop: for each corner, generate descriptor '''\n",
    "  descriptors = np.zeros( (DESC_SIZE, num_corners) )\n",
    "  for n in np.arange(0, num_corners):\n",
    "\n",
    "    # Get the current y,x pair\n",
    "    corner = corners[:,n]\n",
    "\n",
    "    # Generate indices of the pixels we will sample from\n",
    "    sample_idx = offsets + corner.reshape((2,1))\n",
    "    ## todo: deal with out of bounds (negative pixels and >h,w pixels)\n",
    "    ## just replace with zeros in the sample???\n",
    "    sample_idx = np.round(sample_idx).astype(int)\n",
    "    sample_idx[0, sample_idx[0] < 0] = 0\n",
    "    sample_idx[1, sample_idx[1] < 0] = 0\n",
    "    sample_idx[0, sample_idx[0] >= h] = h-1\n",
    "    sample_idx[1, sample_idx[1] >= w] = w-1\n",
    "    # Sample the pixels from the image, and reshape + standardize to form the descriptor\n",
    "    samples = image[sample_idx[0], sample_idx[1]]\n",
    "    descriptors[:,n] = (samples - np.mean(samples)) / np.std(samples)\n",
    "\n",
    "  return descriptors"
   ]
  }
 ],
 "metadata": {
  "kernelspec": {
   "display_name": "Python 3",
   "language": "python",
   "name": "python3"
  },
  "language_info": {
   "codemirror_mode": {
    "name": "ipython",
    "version": 3
   },
   "file_extension": ".py",
   "mimetype": "text/x-python",
   "name": "python",
   "nbconvert_exporter": "python",
   "pygments_lexer": "ipython3",
   "version": "3.6.5"
  }
 },
 "nbformat": 4,
 "nbformat_minor": 2
}
