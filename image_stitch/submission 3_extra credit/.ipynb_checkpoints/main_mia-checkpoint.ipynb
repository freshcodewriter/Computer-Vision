{
 "cells": [
  {
   "cell_type": "code",
   "execution_count": null,
   "metadata": {},
   "outputs": [],
   "source": [
    "import matplotlib.image as mpimg\n",
    "import matplotlib.pyplot as plt\n",
    "\n",
    "from mymosaic import mymosaic\n",
    "\n",
    "if __name__ == \"__main__\":\n",
    "\n",
    "    # Loading franklin field picture\n",
    "    # img_ref = mpimg.imread(\"./img/franklin-field/middle.jpg\")\n",
    "    # img_wrap_l = mpimg.imread(\"./img/franklin-field/left.jpg\")\n",
    "    # img_wrap_r = mpimg.imread(\"./img/franklin-field/right.jpg\")\n",
    "    # res_1 = mymosaic([img_wrap_l, img_ref, img_wrap_r])\n",
    "    # plt.imshow(res_1)\n",
    "    plt.savefig('./res/filed.png', dpi=300)\n",
    "    # plt.show()\n",
    "\n",
    "    # Load our own pictures taken from Towne building.\n",
    "    img_ref = mpimg.imread(\"./img/towne/middle.jpg\")\n",
    "    img_wrap_l = mpimg.imread(\"./img/towne/left.jpg\")\n",
    "    img_wrap_r = mpimg.imread(\"./img/towne/right.jpg\")\n",
    "    res_2 = mymosaic([img_wrap_l, img_ref, img_wrap_r])\n",
    "    plt.imshow(res_2)\n",
    "    plt.savefig('./res/towne.png', dpi=300)\n",
    "    plt.show()"
   ]
  }
 ],
 "metadata": {
  "kernelspec": {
   "display_name": "Python 3",
   "language": "python",
   "name": "python3"
  },
  "language_info": {
   "codemirror_mode": {
    "name": "ipython",
    "version": 3
   },
   "file_extension": ".py",
   "mimetype": "text/x-python",
   "name": "python",
   "nbconvert_exporter": "python",
   "pygments_lexer": "ipython3",
   "version": "3.6.5"
  }
 },
 "nbformat": 4,
 "nbformat_minor": 2
}
