{
 "cells": [
  {
   "cell_type": "code",
   "execution_count": 35,
   "metadata": {},
   "outputs": [],
   "source": [
    "import numpy as np\n",
    "import matplotlib.pyplot as plt\n",
    "from mpl_toolkits import mplot3d\n",
    "import matplotlib as mpl\n",
    "import torch\n",
    "import torch.nn.functional as F\n",
    "from torch.autograd import Variable"
   ]
  },
  {
   "cell_type": "code",
   "execution_count": 36,
   "metadata": {},
   "outputs": [
    {
     "name": "stdout",
     "output_type": "stream",
     "text": [
      "(64, 16)\n",
      "(64, 1)\n",
      "64\n"
     ]
    }
   ],
   "source": [
    "random_imgs = np.load('./random/random_imgs.npy')\n",
    "random_labs = np.load('./random/random_labs.npy')\n",
    "random_imgs = random_imgs.astype(np.float32)\n",
    "random_labs = random_labs.astype(np.float32)\n",
    "\n",
    "random_imgs = random_imgs.reshape(-1,16)\n",
    "random_labs = random_labs.reshape(-1,1)\n",
    "print(random_imgs.shape)\n",
    "print(random_labs.shape)\n",
    "x_torch = Variable(torch.from_numpy(random_imgs))\n",
    "y_torch = Variable(torch.from_numpy(random_labs))\n",
    "print(x_torch.shape[0])"
   ]
  },
  {
   "cell_type": "code",
   "execution_count": 37,
   "metadata": {},
   "outputs": [
    {
     "name": "stderr",
     "output_type": "stream",
     "text": [
      "/Users/cacikkong/anaconda3/lib/python3.6/site-packages/ipykernel_launcher.py:19: UserWarning: nn.init.normal is now deprecated in favor of nn.init.normal_.\n",
      "/Users/cacikkong/anaconda3/lib/python3.6/site-packages/ipykernel_launcher.py:20: UserWarning: nn.init.constant is now deprecated in favor of nn.init.constant_.\n",
      "/Users/cacikkong/anaconda3/lib/python3.6/site-packages/torch/nn/_reduction.py:43: UserWarning: size_average and reduce args will be deprecated, please use reduction='mean' instead.\n",
      "  warnings.warn(warning.format(ret))\n"
     ]
    },
    {
     "name": "stdout",
     "output_type": "stream",
     "text": [
      "0 0.7738035917282104\n",
      "0 0.171875\n",
      "100 0.4583474397659302\n",
      "100 0.828125\n",
      "200 0.4500255882740021\n",
      "200 0.828125\n",
      "300 0.4398536682128906\n",
      "300 0.828125\n",
      "400 0.428114652633667\n",
      "400 0.828125\n",
      "500 0.4153958559036255\n",
      "500 0.828125\n",
      "600 0.40201646089553833\n",
      "600 0.828125\n",
      "700 0.38805824518203735\n",
      "700 0.828125\n",
      "800 0.3736160099506378\n",
      "800 0.828125\n",
      "900 0.35892680287361145\n",
      "900 0.828125\n",
      "1000 0.3443267047405243\n",
      "1000 0.828125\n",
      "1100 0.3301325738430023\n",
      "1100 0.828125\n",
      "1200 0.31655219197273254\n",
      "1200 0.828125\n",
      "1300 0.30366218090057373\n",
      "1300 0.828125\n",
      "1400 0.29143980145454407\n",
      "1400 0.828125\n",
      "1500 0.27981311082839966\n",
      "1500 0.84375\n",
      "1600 0.2687039375305176\n",
      "1600 0.84375\n",
      "1700 0.2580513060092926\n",
      "1700 0.859375\n",
      "1800 0.2478186935186386\n",
      "1800 0.875\n",
      "1900 0.23798945546150208\n",
      "1900 0.875\n",
      "2000 0.22855794429779053\n",
      "2000 0.90625\n",
      "2100 0.21952052414417267\n",
      "2100 0.90625\n",
      "2200 0.2108706533908844\n",
      "2200 0.921875\n",
      "2300 0.20259693264961243\n",
      "2300 0.9375\n",
      "2400 0.1946837455034256\n",
      "2400 0.9375\n",
      "2500 0.18711304664611816\n",
      "2500 0.9375\n",
      "2600 0.17986634373664856\n",
      "2600 0.9375\n",
      "2700 0.17292608320713043\n",
      "2700 0.9375\n",
      "2800 0.16627614200115204\n",
      "2800 0.953125\n",
      "2900 0.15990205109119415\n",
      "2900 0.953125\n",
      "3000 0.15379127860069275\n",
      "3000 0.953125\n",
      "3100 0.14793244004249573\n",
      "3100 0.953125\n",
      "3200 0.14231476187705994\n",
      "3200 0.953125\n",
      "3300 0.1369280070066452\n",
      "3300 0.953125\n",
      "3400 0.13176190853118896\n",
      "3400 0.953125\n",
      "3500 0.12680645287036896\n",
      "3500 0.953125\n",
      "3600 0.1220516487956047\n",
      "3600 0.96875\n",
      "3700 0.11748767644166946\n",
      "3700 0.96875\n",
      "3800 0.11310524493455887\n",
      "3800 0.96875\n",
      "3900 0.10889552533626556\n",
      "3900 0.984375\n",
      "4000 0.10485050827264786\n",
      "4000 0.984375\n",
      "4100 0.10096267610788345\n",
      "4100 0.984375\n",
      "4200 0.09722546488046646\n",
      "4200 0.984375\n",
      "4300 0.09363294392824173\n",
      "4300 0.984375\n",
      "4400 0.09017971158027649\n",
      "4400 0.984375\n",
      "4500 0.08686116337776184\n",
      "4500 0.984375\n",
      "4600 0.08367292582988739\n",
      "4600 0.984375\n",
      "4700 0.08061109483242035\n",
      "4700 0.984375\n",
      "4800 0.07767203450202942\n",
      "4800 0.984375\n",
      "4900 0.07485216110944748\n",
      "4900 1.0\n"
     ]
    }
   ],
   "source": [
    "class Model(torch.nn.Module):\n",
    "    def __init__(self):\n",
    "        super(Model,self).__init__()\n",
    "        self.l1 = torch.nn.Linear(4*4,4)\n",
    "        self.l2 = torch.nn.Linear(4,1)\n",
    "        self.sigmoid = torch.nn.Sigmoid()\n",
    "        \n",
    "    def forward(self,x):\n",
    "        fc_1 = self.l1(x)\n",
    "        fc_1_ac = self.sigmoid(fc_1)\n",
    "        fc_2 = self.l2(fc_1_ac)\n",
    "        y_pred = self.sigmoid(fc_2)\n",
    "        return y_pred\n",
    "    \n",
    "model = Model()\n",
    "\n",
    "for m in model.modules():\n",
    "    if isinstance(m,torch.nn.Linear):\n",
    "        torch.nn.init.normal(m.weight,mean=0,std=0.1)\n",
    "        torch.nn.init.constant(m.bias,0.1)\n",
    "        \n",
    "criterion = torch.nn.BCELoss(size_average = True)\n",
    "optimizer = torch.optim.SGD(model.parameters(),lr=0.1)    \n",
    "\n",
    "loss_array = []\n",
    "accuracy_array = []\n",
    "for epoch in range(5000):\n",
    "    outputs = model(x_torch)\n",
    "    loss = criterion(outputs, y_torch)\n",
    "\n",
    "    y_pred = outputs.clone()\n",
    "    y_pred[y_pred>=0.5] = 1\n",
    "    y_pred[y_pred<0.5] = 0\n",
    "    acc = torch.sum(torch.isclose(y_pred,y_torch)).item()/y_torch.shape[0]\n",
    "    if epoch % 100 == 0:\n",
    "        print(epoch,loss.item())\n",
    "        print(epoch,acc)\n",
    "    \n",
    "    loss_array.append(loss)\n",
    "    accuracy_array.append(acc)\n",
    "    optimizer.zero_grad()\n",
    "    loss.backward()\n",
    "    optimizer.step()\n",
    "#     running_loss = 0.0\n",
    "#     running_accuracy = 0.0\n",
    "#     for i in range(x_torch.shape[0]):\n",
    "#         outputs = model(x_torch[i])\n",
    "#         loss = criterion(outputs, y_torch[i])\n",
    "#         optimizer.zero_grad()\n",
    "#         loss.backward()\n",
    "#         optimizer.step()\n",
    "#         running_loss += loss.item()\n",
    "#         outputs = (outputs>=0.5).float()\n",
    "#         if(outputs == y_torch[i]):\n",
    "#             running_accuracy += 1"
   ]
  },
  {
   "cell_type": "code",
   "execution_count": 38,
   "metadata": {},
   "outputs": [
    {
     "data": {
      "image/png": "[encoded data removed]",
      "text/plain": [
       "<Figure size 432x288 with 1 Axes>"
      ]
     },
     "metadata": {},
     "output_type": "display_data"
    }
   ],
   "source": [
    "x = np.arange(0,5000,1)\n",
    "y = loss_array\n",
    "fig = plt.figure()\n",
    "plt.plot(x,y)\n",
    "plt.title('loss vs training iterations_2b')\n",
    "plt.xlabel('iteration')\n",
    "plt.ylabel('loss')\n",
    "plt.savefig('2b_loss')"
   ]
  },
  {
   "cell_type": "code",
   "execution_count": 39,
   "metadata": {},
   "outputs": [
    {
     "data": {
      "image/png": "[encoded data removed]",
      "text/plain": [
       "<Figure size 432x288 with 1 Axes>"
      ]
     },
     "metadata": {},
     "output_type": "display_data"
    }
   ],
   "source": [
    "x = np.arange(0,5000,1)\n",
    "y = accuracy_array\n",
    "fig = plt.figure()\n",
    "plt.plot(x,y)\n",
    "plt.title('accuracy vs training iterations_2b')\n",
    "plt.xlabel('iteration')\n",
    "plt.ylabel('accuracy')\n",
    "plt.savefig('2b_accuracy')"
   ]
  },
  {
   "cell_type": "code",
   "execution_count": null,
   "metadata": {},
   "outputs": [],
   "source": []
  }
 ],
 "metadata": {
  "kernelspec": {
   "display_name": "Python 3",
   "language": "python",
   "name": "python3"
  },
  "language_info": {
   "codemirror_mode": {
    "name": "ipython",
    "version": 3
   },
   "file_extension": ".py",
   "mimetype": "text/x-python",
   "name": "python",
   "nbconvert_exporter": "python",
   "pygments_lexer": "ipython3",
   "version": "3.6.5"
  }
 },
 "nbformat": 4,
 "nbformat_minor": 2
}
