{
 "cells": [
  {
   "cell_type": "code",
   "execution_count": null,
   "metadata": {},
   "outputs": [],
   "source": [
    "def crossMatch(descs1,descs2):\n",
    "    descs1 = descs1.T\n",
    "    descs2 = descs2.T\n",
    "    N = descs1.shape[0]\n",
    "    descriptor_size = 64\n",
    "    match = np.zeros(N).astype(int)\n",
    "    match.fill(-1)\n",
    "\n",
    "    nbrs_farward = NearestNeighbors(n_neighbors=1, algorithm='ball_tree').fit(descs2)\n",
    "    distances_farward, indices_farward = nbrs_farward.kneighbors(descs1)\n",
    "\n",
    "    # bi-directional check\n",
    "    nbrs_backward = NearestNeighbors(n_neighbors=1, algorithm='ball_tree').fit(descs1)\n",
    "    distances_backward, indices_backward = nbrs_backward.kneighbors(descs2)\n",
    "\n",
    "    print(indices_farward[0])\n",
    "    print(indices_backward[23])\n",
    "    for i in range(N):\n",
    "        tmp = indices_farward[i] \n",
    "        if indices_backward[tmp] == i:\n",
    "            match[i] = indices_farward[i]\n",
    "    return match"
   ]
  }
 ],
 "metadata": {
  "kernelspec": {
   "display_name": "Python 3",
   "language": "python",
   "name": "python3"
  },
  "language_info": {
   "codemirror_mode": {
    "name": "ipython",
    "version": 3
   },
   "file_extension": ".py",
   "mimetype": "text/x-python",
   "name": "python",
   "nbconvert_exporter": "python",
   "pygments_lexer": "ipython3",
   "version": "3.6.5"
  }
 },
 "nbformat": 4,
 "nbformat_minor": 2
}
