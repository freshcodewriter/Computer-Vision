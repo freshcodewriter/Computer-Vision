{
 "cells": [
  {
   "cell_type": "code",
   "execution_count": null,
   "metadata": {},
   "outputs": [],
   "source": [
    "import torch\n",
    "import numpy as np\n",
    "\n",
    "class HW0Solution:\n",
    "    def __init__(self):\n",
    "        pass\n",
    "\n",
    "    # Simulate the system Ax+b for one timestep using the given initial conditions\n",
    "    # A = NxN numpy array\n",
    "    # b = 1D N numpy array\n",
    "    # init_cond = N x 1 x M numpy array (M different initial conditions)\n",
    "    # return = N x 1 x M numpy array (M different initial conditions)\n",
    "    def sim_systems(self, A, b, init_cond):\n",
    "        init_cond = init_cond.reshape(init_cond.shape[0],init_cond.shape[2])\n",
    "        b = b.reshape(b.shape[0],1)\n",
    "        res = np.matmul(A, init_cond) + b\n",
    "        res = res.reshape(res.shape[0],1,res.shape[1])\n",
    "        return res\n",
    "\n",
    "    # Compute the partial derivatives (gradients) of a multi-dimensional function.\n",
    "    # dx = Scalar value showing distance between discrete samples\n",
    "    # y = N-dimentional numpy array of sample points at regular intervals.\n",
    "    #   -For the 2D case, y is N x N\n",
    "    # returns = gradient (as torch tensor) at every point in y.\n",
    "    #   -For the 2D case, return 2 x (N-1) x (N-1).  The first 2 channels are the x and y components\n",
    "    def compute_derivative(self, dx, y):\n",
    "        dim = 0\n",
    "        total_dim = y.ndim\n",
    "        N = y.shape[-1]\n",
    "        k1=[total_dim]\n",
    "        k2=[N-1]*total_dim\n",
    "        k=k1+k2\n",
    "        k = np.zeros(k)\n",
    "        while(dim < y.ndim):\n",
    "            dy = np.diff(y,axis=dim)\n",
    "            dy = dy/dx\n",
    "            i = 0\n",
    "            while(i< y.ndim):\n",
    "                if i!=dim:\n",
    "                    dy = np.delete(dy, N-1, i)\n",
    "                i += 1\n",
    "            k[dim] = dy\n",
    "            dim += 1\n",
    "        ans = torch.from_numpy(k)\n",
    "        return ans"
   ]
  }
 ],
 "metadata": {
  "kernelspec": {
   "display_name": "Python 3",
   "language": "python",
   "name": "python3"
  },
  "language_info": {
   "codemirror_mode": {
    "name": "ipython",
    "version": 3
   },
   "file_extension": ".py",
   "mimetype": "text/x-python",
   "name": "python",
   "nbconvert_exporter": "python",
   "pygments_lexer": "ipython3",
   "version": "3.6.5"
  }
 },
 "nbformat": 4,
 "nbformat_minor": 2
}
