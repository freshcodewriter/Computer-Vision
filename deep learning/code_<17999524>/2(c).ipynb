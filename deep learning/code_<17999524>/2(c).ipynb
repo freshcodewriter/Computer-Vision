{
 "cells": [
  {
   "cell_type": "code",
   "execution_count": 36,
   "metadata": {},
   "outputs": [],
   "source": [
    "import numpy as np\n",
    "import matplotlib.pyplot as plt\n",
    "from mpl_toolkits import mplot3d\n",
    "import matplotlib as mpl\n",
    "import torch\n",
    "import torch.nn.functional as F\n",
    "from torch.autograd import Variable"
   ]
  },
  {
   "cell_type": "code",
   "execution_count": 37,
   "metadata": {},
   "outputs": [
    {
     "name": "stdout",
     "output_type": "stream",
     "text": [
      "(64, 16)\n",
      "(64, 1)\n",
      "64\n"
     ]
    }
   ],
   "source": [
    "random_imgs = np.load('./random/random_imgs.npy')\n",
    "random_labs = np.load('./random/random_labs.npy')\n",
    "random_imgs = random_imgs.astype(np.float32)\n",
    "random_labs = random_labs.astype(np.float32)\n",
    "\n",
    "random_imgs = random_imgs.reshape(-1,16)\n",
    "random_labs = random_labs.reshape(-1,1)\n",
    "print(random_imgs.shape)\n",
    "print(random_labs.shape)\n",
    "x_torch = Variable(torch.from_numpy(random_imgs))\n",
    "y_torch = Variable(torch.from_numpy(random_labs))\n",
    "print(x_torch.shape[0])"
   ]
  },
  {
   "cell_type": "code",
   "execution_count": 38,
   "metadata": {},
   "outputs": [
    {
     "name": "stderr",
     "output_type": "stream",
     "text": [
      "/Users/cacikkong/anaconda3/lib/python3.6/site-packages/ipykernel_launcher.py:20: UserWarning: nn.init.normal is now deprecated in favor of nn.init.normal_.\n",
      "/Users/cacikkong/anaconda3/lib/python3.6/site-packages/ipykernel_launcher.py:21: UserWarning: nn.init.constant is now deprecated in favor of nn.init.constant_.\n",
      "/Users/cacikkong/anaconda3/lib/python3.6/site-packages/torch/nn/_reduction.py:43: UserWarning: size_average and reduce args will be deprecated, please use reduction='mean' instead.\n",
      "  warnings.warn(warning.format(ret))\n"
     ]
    },
    {
     "name": "stdout",
     "output_type": "stream",
     "text": [
      "0 0.2705092430114746\n",
      "0 0.171875\n",
      "100 0.15457051992416382\n",
      "100 0.828125\n",
      "200 0.14715039730072021\n",
      "200 0.828125\n",
      "300 0.14427679777145386\n",
      "300 0.828125\n",
      "400 0.1417607218027115\n",
      "400 0.828125\n",
      "500 0.13866892457008362\n",
      "500 0.828125\n",
      "600 0.13605034351348877\n",
      "600 0.828125\n",
      "700 0.13303181529045105\n",
      "700 0.828125\n",
      "800 0.12895534932613373\n",
      "800 0.828125\n",
      "900 0.1219516471028328\n",
      "900 0.828125\n",
      "1000 0.11043670773506165\n",
      "1000 0.828125\n",
      "1100 0.09675773233175278\n",
      "1100 0.859375\n",
      "1200 0.08370960503816605\n",
      "1200 0.90625\n",
      "1300 0.07255126535892487\n",
      "1300 0.921875\n",
      "1400 0.06347086280584335\n",
      "1400 0.9375\n",
      "1500 0.05617179349064827\n",
      "1500 0.9375\n",
      "1600 0.05027719959616661\n",
      "1600 0.9375\n",
      "1700 0.04538673534989357\n",
      "1700 0.953125\n",
      "1800 0.04126758128404617\n",
      "1800 0.984375\n",
      "1900 0.037344563752412796\n",
      "1900 0.984375\n",
      "2000 0.03392704576253891\n",
      "2000 0.984375\n",
      "2100 0.030844340100884438\n",
      "2100 0.984375\n",
      "2200 0.02817513979971409\n",
      "2200 0.984375\n",
      "2300 0.025768721476197243\n",
      "2300 0.984375\n",
      "2400 0.023589231073856354\n",
      "2400 1.0\n",
      "2500 0.0216590017080307\n",
      "2500 1.0\n",
      "2600 0.019880251958966255\n",
      "2600 1.0\n",
      "2700 0.0182826928794384\n",
      "2700 1.0\n",
      "2800 0.01686025969684124\n",
      "2800 1.0\n",
      "2900 0.015573445707559586\n",
      "2900 1.0\n"
     ]
    }
   ],
   "source": [
    "class Model(torch.nn.Module):\n",
    "    def __init__(self):\n",
    "        super(Model,self).__init__()\n",
    "        self.l1 = torch.nn.Linear(4*4,4)\n",
    "        self.l2 = torch.nn.Linear(4,1)\n",
    "        self.sigmoid = torch.nn.Sigmoid()\n",
    "        \n",
    "    def forward(self,x):\n",
    "        fc_1 = self.l1(x)\n",
    "        fc_1_ac = F.relu(fc_1)\n",
    "        fc_2 = self.l2(fc_1_ac)\n",
    "        y_pred = self.sigmoid(fc_2)\n",
    "        return y_pred\n",
    "    \n",
    "    \n",
    "model = Model()\n",
    "\n",
    "for m in model.modules():\n",
    "    if isinstance(m,torch.nn.Linear):\n",
    "        torch.nn.init.normal(m.weight,mean=0,std=0.1)\n",
    "        torch.nn.init.constant(m.bias,0.1)\n",
    "        \n",
    "criterion = torch.nn.MSELoss(size_average = True)\n",
    "optimizer = torch.optim.SGD(model.parameters(),lr=0.1)    \n",
    "\n",
    "loss_array = []\n",
    "accuracy_array = []\n",
    "for epoch in range(3000):\n",
    "    outputs = model(x_torch)\n",
    "    loss = criterion(outputs, y_torch)\n",
    "\n",
    "    y_pred = outputs.clone()\n",
    "    y_pred[y_pred>=0.5] = 1\n",
    "    y_pred[y_pred<0.5] = 0\n",
    "    acc = torch.sum(torch.isclose(y_pred,y_torch)).item()/y_torch.shape[0]\n",
    "    if epoch % 100 == 0:\n",
    "        print(epoch,loss.item())\n",
    "        print(epoch,acc)\n",
    "    \n",
    "    loss_array.append(loss)\n",
    "    accuracy_array.append(acc)\n",
    "    optimizer.zero_grad()\n",
    "    loss.backward()\n",
    "    optimizer.step()"
   ]
  },
  {
   "cell_type": "code",
   "execution_count": 39,
   "metadata": {},
   "outputs": [
    {
     "data": {
      "image/png": "[encoded data removed]",
      "text/plain": [
       "<Figure size 432x288 with 1 Axes>"
      ]
     },
     "metadata": {},
     "output_type": "display_data"
    }
   ],
   "source": [
    "x = np.arange(0,3000,1)\n",
    "y = loss_array[:3000]\n",
    "fig = plt.figure()\n",
    "plt.plot(x,y)\n",
    "plt.title('loss vs training iterations_2c')\n",
    "plt.xlabel('iteration')\n",
    "plt.ylabel('loss')\n",
    "plt.savefig('2c_loss')"
   ]
  },
  {
   "cell_type": "code",
   "execution_count": 40,
   "metadata": {},
   "outputs": [
    {
     "data": {
      "image/png": "[encoded data removed]",
      "text/plain": [
       "<Figure size 432x288 with 1 Axes>"
      ]
     },
     "metadata": {},
     "output_type": "display_data"
    }
   ],
   "source": [
    "x = np.arange(0,3000,1)\n",
    "y = accuracy_array[:3000]\n",
    "fig = plt.figure()\n",
    "plt.plot(x,y)\n",
    "plt.title('accuracy vs training iterations_2c')\n",
    "plt.xlabel('iteration')\n",
    "plt.ylabel('accuracy')\n",
    "plt.savefig('2c_accuracy')"
   ]
  },
  {
   "cell_type": "code",
   "execution_count": null,
   "metadata": {},
   "outputs": [],
   "source": []
  }
 ],
 "metadata": {
  "kernelspec": {
   "display_name": "Python 3",
   "language": "python",
   "name": "python3"
  },
  "language_info": {
   "codemirror_mode": {
    "name": "ipython",
    "version": 3
   },
   "file_extension": ".py",
   "mimetype": "text/x-python",
   "name": "python",
   "nbconvert_exporter": "python",
   "pygments_lexer": "ipython3",
   "version": "3.6.5"
  }
 },
 "nbformat": 4,
 "nbformat_minor": 2
}
