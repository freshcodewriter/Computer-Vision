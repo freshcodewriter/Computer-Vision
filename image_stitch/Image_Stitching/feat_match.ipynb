{
 "cells": [
  {
   "cell_type": "code",
   "execution_count": null,
   "metadata": {},
   "outputs": [],
   "source": [
    "'''\n",
    "  File name: feat_match.py\n",
    "  Author:\n",
    "  Date created:\n",
    "'''\n",
    "\n",
    "'''\n",
    "  File clarification:\n",
    "    Matching feature descriptors between two images. You can use k-d tree to find the k nearest neighbour. \n",
    "    Remember to filter the correspondences using the ratio of the best and second-best match SSD. You can set the threshold to 0.6.\n",
    "    - Input descs1: 64 × N1 matrix representing the corner descriptors of first image.\n",
    "    - Input descs2: 64 × N2 matrix representing the corner descriptors of second image.\n",
    "    - Outpuy match: N1 × 1 vector where match i points to the index of the descriptor in descs2 that matches with the\n",
    "                    feature i in descriptor descs1. If no match is found, you should put match i = −1.\n",
    "'''\n",
    "import numpy as np\n",
    "from sklearn.neighbors import NearestNeighbors\n",
    "\n",
    "# initialize parameter\n",
    "def feat_match(descs1,descs2):\n",
    "    N = descs1.shape[0]\n",
    "    descriptor_size = 64\n",
    "    match = np.zeros(N).astype(int)\n",
    "    match.fill(-1)\n",
    "    threshold = 0.83\n",
    "\n",
    "    nbrs_farward = NearestNeighbors(n_neighbors=2, algorithm='ball_tree').fit(descs2)\n",
    "    distances_farward, indices_farward = nbrs_farward.kneighbors(descs1)\n",
    "\n",
    "    # bi-directional check\n",
    "#     nbrs_backward = NearestNeighbors(n_neighbors=2, algorithm='ball_tree').fit(descs1)\n",
    "#     distances_backward, indices_backward = nbrs_backward.kneighbors(descs2)\n",
    "\n",
    "    for i in range(N):\n",
    "        ratio_farward = distances_farward[i,0] / distances_farward[i,1]\n",
    "#         ratio_backward = distances_backward[i,0] / distances_backward[i,1]\n",
    "        if ratio_farward < threshold:\n",
    "#         if ratio_farward < threshold and ratio_backward < threshold:\n",
    "            match[i] = indices_farward[i,0]\n",
    "        \n",
    "    return match"
   ]
  }
 ],
 "metadata": {
  "kernelspec": {
   "display_name": "Python 3",
   "language": "python",
   "name": "python3"
  },
  "language_info": {
   "codemirror_mode": {
    "name": "ipython",
    "version": 3
   },
   "file_extension": ".py",
   "mimetype": "text/x-python",
   "name": "python",
   "nbconvert_exporter": "python",
   "pygments_lexer": "ipython3",
   "version": "3.6.5"
  }
 },
 "nbformat": 4,
 "nbformat_minor": 2
}
